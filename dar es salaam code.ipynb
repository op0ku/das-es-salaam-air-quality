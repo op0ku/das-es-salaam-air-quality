{
 "cells": [
  {
   "cell_type": "markdown",
   "id": "21e73b8b",
   "metadata": {},
   "source": [
    "# Building autoregression model to predict the air quality in Dar es Salaam."
   ]
  },
  {
   "cell_type": "code",
   "execution_count": 2,
   "id": "9b9de7f5",
   "metadata": {},
   "outputs": [],
   "source": [
    "import matplotlib.pyplot as plt\n",
    "import pandas as pd\n",
    "import plotly.express as px\n",
    "from pymongo import MongoClient\n",
    "from sklearn.metrics import mean_absolute_error\n",
    "from statsmodels.graphics.tsaplots import plot_acf, plot_pacf\n",
    "from statsmodels.tsa.ar_model import AutoReg"
   ]
  },
  {
   "cell_type": "code",
   "execution_count": null,
   "id": "5cfc49d5",
   "metadata": {},
   "outputs": [],
   "source": [
    "#create client access to mongoDB server\n",
    "client = MongoClient(host='localhost', port=27017)\n",
    "db = client['air-quality']\n",
    "dar = db['dar-es-salaam']"
   ]
  },
  {
   "cell_type": "code",
   "execution_count": null,
   "id": "648dd6cf",
   "metadata": {},
   "outputs": [],
   "source": [
    "#build wrangle function to clean dataset\n",
    "def wrangle(collection):\n",
    "    results = collection.find({'metadata.site': 11, 'metadata.measurement': 'P2'},\n",
    "                             projection={'P2':1, 'timestamp': 1, '_id':0})\n",
    "    \n",
    "    df = pd.DataFrame(list(results)).set_index('timestamp')\n",
    "    df.index = df.index.tz_localize('UTC').tz_convert('Africa/Dar_es_Salaam')\n",
    "    \n",
    "    df = df[df['P2'] <= 100]\n",
    "    \n",
    "    y = df['P2'].resample('1H').mean().fillna(method='ffill')\n",
    "    return y"
   ]
  },
  {
   "cell_type": "code",
   "execution_count": null,
   "id": "29c683e5",
   "metadata": {},
   "outputs": [],
   "source": [
    "#apply wrangle function on dar collection to return series\n",
    "y = wrangle(dar)\n",
    "\n",
    "#view dataset and its features\n",
    "print(y.info())\n",
    "print(y.head())"
   ]
  },
  {
   "cell_type": "code",
   "execution_count": null,
   "id": "d8e74638",
   "metadata": {},
   "outputs": [],
   "source": [
    "# plot the time series data on PM2.5 Level\n",
    "fig, ax = plt.subplots(figsize=(15, 6))\n",
    "y.plot(xlabel='Date', ylabel='PM2.5 Level', title='Dar es Salaam PM2.5 Levels', ax=ax);"
   ]
  },
  {
   "cell_type": "code",
   "execution_count": null,
   "id": "562bd29d",
   "metadata": {},
   "outputs": [],
   "source": [
    "#apply 168(weeks) rolling avearage on the readings in y\n",
    "fig, ax = plt.subplots(figsize=(15, 6))\n",
    "y.rolling(168).mean().plot(ax=ax, ylabel='PM2.5', title='Dar es Salaam PM2.5 Levels, 7-Day Rolling Average', xlabel='Date')"
   ]
  },
  {
   "cell_type": "code",
   "execution_count": null,
   "id": "38f44709",
   "metadata": {},
   "outputs": [],
   "source": [
    "#create Autocorrelation Function(ACF) plot for the readings\n",
    "fig, ax = plt.subplots(figsize=(15, 6))\n",
    "plot_acf(y, ax=ax)"
   ]
  },
  {
   "cell_type": "code",
   "execution_count": null,
   "id": "799f62a8",
   "metadata": {},
   "outputs": [],
   "source": [
    "#create Partial Autocorrelation Function(ACF) plot for the readings\n",
    "fig, ax = plt.subplots(figsize=(15, 6))\n",
    "plot_pacf(y, ax=ax)\n",
    "plt.xlabel=('Lag [hours]')\n",
    "plt.ylabel=('Correlation Coefficient')\n",
    "plt.title=('Dar es Salaam PM2.5 Readings, PACF')"
   ]
  },
  {
   "cell_type": "code",
   "execution_count": null,
   "id": "9717628a",
   "metadata": {},
   "outputs": [],
   "source": [
    "#split the readings dataset in training and test sets\n",
    "cutoff_test = int(len(y) * .9)\n",
    "y_train = y.iloc[:cutoff_test]\n",
    "y_test = y.iloc[cutoff_test:]\n",
    "print(\"y_train shape:\", y_train.shape)\n",
    "print(\"y_test shape:\", y_test.shape)"
   ]
  },
  {
   "cell_type": "code",
   "execution_count": null,
   "id": "842210c3",
   "metadata": {},
   "outputs": [],
   "source": [
    "#establish the baseline mean absolut error for the model\n",
    "y_train_mean = y_train.mean()\n",
    "y_pred_baseline = [y_train_mean] * len(y_train)\n",
    "mae_baseline = mean_absolute_error(y_train, y_pred_baseline)\n",
    "\n",
    "print(\"Mean P2 Reading:\", y_train_mean)\n",
    "print(\"Baseline MAE:\", mae_baseline)"
   ]
  },
  {
   "cell_type": "code",
   "execution_count": null,
   "id": "72ed3688",
   "metadata": {},
   "outputs": [],
   "source": [
    "# Create range to test different lags\n",
    "p_params = range(1, 31)\n",
    "maes = []\n",
    "\n",
    "# Iterate through all values of p in `p_params`\n",
    "for p in p_params:\n",
    "    model = AutoReg(y_train, lags=p).fit()\n",
    "    y_pred = model.predict().dropna()\n",
    "    mae = mean_absolute_error(y_train.iloc[p:], y_pred)\n",
    "    maes.append(mae)\n",
    "\n",
    "mae_series = pd.Series(maes, name=\"mae\", index=p_params)\n",
    "mae_series.head()"
   ]
  },
  {
   "cell_type": "code",
   "execution_count": null,
   "id": "7fa18fb9",
   "metadata": {},
   "outputs": [],
   "source": [
    "# instatiate the model with the best hyperparameter\n",
    "best_p = 25\n",
    "best_model = AutoReg(y_train, lags=25).fit()\n",
    "best_model"
   ]
  },
  {
   "cell_type": "code",
   "execution_count": null,
   "id": "2667cc21",
   "metadata": {},
   "outputs": [],
   "source": [
    "#calculate training residuals for best_model\n",
    "y_train_resid = (y_train - best_model.predict()).dropna()\n",
    "y_train_resid.name = \"residuals\"\n",
    "y_train_resid.head()"
   ]
  },
  {
   "cell_type": "code",
   "execution_count": null,
   "id": "e0df9b8e",
   "metadata": {},
   "outputs": [],
   "source": [
    "# Plot histogram of residuals\n",
    "y_train_resid.hist()\n",
    "plt.xlabel('Residuals')\n",
    "plt.ylabel('Frequency')\n",
    "plt.title('Best Model, Training Residuals')"
   ]
  },
  {
   "cell_type": "code",
   "execution_count": null,
   "id": "e4490ae8",
   "metadata": {},
   "outputs": [],
   "source": [
    "#plot Autocorrelation Function for the residuals\n",
    "fig, ax = plt.subplots(figsize=(15, 6))\n",
    "plot_acf(y_train_resid, ax=ax)"
   ]
  },
  {
   "cell_type": "code",
   "execution_count": null,
   "id": "51583231",
   "metadata": {},
   "outputs": [],
   "source": [
    "#perform walk-forward validation for the test data with the best_model\n",
    "y_pred_wfv = pd.Series()\n",
    "history = y_train.copy()\n",
    "\n",
    "for i in range(len(y_test)):\n",
    "    model = AutoReg(history, lags=best_p).fit()\n",
    "    next_pred = model.forecast()\n",
    "    y_pred_wfv = y_pred_wfv.append(next_pred)\n",
    "    history = history.append(y_test[next_pred.index])\n",
    "    \n",
    "y_pred_wfv.name = \"prediction\"\n",
    "y_pred_wfv.index.name = \"timestamp\"\n",
    "y_pred_wfv.head()"
   ]
  },
  {
   "cell_type": "code",
   "execution_count": null,
   "id": "ee526ae3",
   "metadata": {},
   "outputs": [],
   "source": [
    "#plot the predictions against the test data\n",
    "df_pred_test = pd.DataFrame({'y_test': y_test, 'y_pred_wfv': y_pred_wfv}, index=y_test.index)\n",
    "fig = px.line(df_pred_test, labels={'values': 'PM2.5'})\n",
    "fig.update_layout(\n",
    "    title=\"Dar es Salaam, WFV Predictions\",\n",
    "    xaxis_title=\"Date\",\n",
    "    yaxis_title=\"PM2.5 Level\")"
   ]
  }
 ],
 "metadata": {
  "kernelspec": {
   "display_name": "Python 3 (ipykernel)",
   "language": "python",
   "name": "python3"
  },
  "language_info": {
   "codemirror_mode": {
    "name": "ipython",
    "version": 3
   },
   "file_extension": ".py",
   "mimetype": "text/x-python",
   "name": "python",
   "nbconvert_exporter": "python",
   "pygments_lexer": "ipython3",
   "version": "3.11.5"
  }
 },
 "nbformat": 4,
 "nbformat_minor": 5
}
